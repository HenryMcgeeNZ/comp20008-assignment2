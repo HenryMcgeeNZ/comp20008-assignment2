{
  "nbformat": 4,
  "nbformat_minor": 0,
  "metadata": {
    "colab": {
      "name": "Elements of Data Processing",
      "provenance": [],
      "include_colab_link": true
    },
    "kernelspec": {
      "name": "python3",
      "display_name": "Python 3"
    },
    "language_info": {
      "name": "python"
    }
  },
  "cells": [
    {
      "cell_type": "markdown",
      "metadata": {
        "id": "view-in-github",
        "colab_type": "text"
      },
      "source": [
        "<a href=\"https://colab.research.google.com/github/HenryMcgeeNZ/comp20008-assignment2/blob/main/Elements_of_Data_Processing.ipynb\" target=\"_parent\"><img src=\"https://colab.research.google.com/assets/colab-badge.svg\" alt=\"Open In Colab\"/></a>"
      ]
    },
    {
      "cell_type": "markdown",
      "metadata": {
        "id": "Ci2NTRR7vPcK"
      },
      "source": [
        "Cell to download both data sets and store in dataframe"
      ]
    },
    {
      "cell_type": "code",
      "metadata": {
        "id": "MhPTcb-IoS5Q"
      },
      "source": [
        "import pandas as pd\n",
        "from google.colab import files\n",
        "import io\n",
        "\n",
        "!wget -q https://www.dhhs.vic.gov.au/ncov-covid-cases-by-lga-source-csv\n",
        "lga_covid_cases = pd.read_csv('ncov-covid-cases-by-lga-source-csv')\n",
        "\n",
        "!wget -q https://www2.health.vic.gov.au/Api/downloadmedia/%7B421FD5AF-610C-4451-8180-59EA2E4E41CE%7D\n",
        "lga_2015_data = pd.read_excel('{421FD5AF-610C-4451-8180-59EA2E4E41CE}')\n"
      ],
      "execution_count": 11,
      "outputs": []
    },
    {
      "cell_type": "code",
      "metadata": {
        "colab": {
          "base_uri": "https://localhost:8080/"
        },
        "id": "g8SyW6_8vM0x",
        "outputId": "9ca20292-6260-47f6-f646-27c76848dd3e"
      },
      "source": [
        "print(lga_covid_cases.head())\n",
        "print(lga_2015_data.head())\n",
        "\n"
      ],
      "execution_count": 13,
      "outputs": [
        {
          "output_type": "stream",
          "name": "stdout",
          "text": [
            "  diagnosis_date  ...       Localgovernmentarea\n",
            "0     2020-03-11  ...       Greater Geelong (C)\n",
            "1     2020-03-08  ...  Mornington Peninsula (S)\n",
            "2     2020-03-09  ...          Port Phillip (C)\n",
            "3     2020-08-01  ...            Whittlesea (C)\n",
            "4     2020-03-01  ...                 Casey (C)\n",
            "\n",
            "[5 rows x 4 columns]\n",
            "         LGA Name  ...  Registered mental health clients per 1,000 population (rank)\n",
            "0      Alpine (S)  ...                                               15.0           \n",
            "1     Ararat (RC)  ...                                                3.0           \n",
            "2    Ballarat (C)  ...                                               17.0           \n",
            "3     Banyule (C)  ...                                               61.0           \n",
            "4  Bass Coast (S)  ...                                               24.0           \n",
            "\n",
            "[5 rows x 404 columns]\n"
          ]
        }
      ]
    }
  ]
}