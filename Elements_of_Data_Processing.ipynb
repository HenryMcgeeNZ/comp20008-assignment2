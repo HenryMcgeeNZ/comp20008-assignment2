{
  "nbformat": 4,
  "nbformat_minor": 0,
  "metadata": {
    "colab": {
      "name": "Elements of Data Processing",
      "provenance": [],
      "include_colab_link": true
    },
    "kernelspec": {
      "name": "python3",
      "display_name": "Python 3"
    },
    "language_info": {
      "name": "python"
    }
  },
  "cells": [
    {
      "cell_type": "markdown",
      "metadata": {
        "id": "view-in-github",
        "colab_type": "text"
      },
      "source": [
        "<a href=\"https://colab.research.google.com/github/HenryMcgeeNZ/comp20008-assignment2/blob/main/Elements_of_Data_Processing.ipynb\" target=\"_parent\"><img src=\"https://colab.research.google.com/assets/colab-badge.svg\" alt=\"Open In Colab\"/></a>"
      ]
    },
    {
      "cell_type": "markdown",
      "metadata": {
        "id": "Ci2NTRR7vPcK"
      },
      "source": [
        "Cell to download both data sets and store in dataframe"
      ]
    },
    {
      "cell_type": "code",
      "metadata": {
        "id": "MhPTcb-IoS5Q"
      },
      "source": [
        "import pandas as pd\n",
        "from google.colab import files\n",
        "import io\n",
        "\n",
        "# download data from URL\n",
        "!wget -q https://www.dhhs.vic.gov.au/ncov-covid-cases-by-lga-source-csv\n",
        "# store downloaded data in dataframe\n",
        "lga_covid_cases = pd.read_csv('ncov-covid-cases-by-lga-source-csv')\n",
        "\n",
        "!wget -q https://www2.health.vic.gov.au/Api/downloadmedia/%7B421FD5AF-610C-4451-8180-59EA2E4E41CE%7D\n",
        "lga_2015_data = pd.read_excel('{421FD5AF-610C-4451-8180-59EA2E4E41CE}')\n"
      ],
      "execution_count": 54,
      "outputs": []
    },
    {
      "cell_type": "code",
      "metadata": {
        "id": "g8SyW6_8vM0x"
      },
      "source": [
        "num_cases = lga_covid_cases.Localgovernmentarea.value_counts().rename_axis('LGA Name').reset_index(name='Covid cases')\n",
        "\n",
        "# 2015 lga health data with num covid cases for each lga\n",
        "lga_data = pd.merge(lga_2015_data, num_cases)\n",
        "\n",
        "lga_data.plot.scatter(x='Notifications of chlamydia per 100,000 population', y='Covid cases')\n",
        "lga_data.plot.scatter(x='Median house price', y='Covid cases')\n",
        "lga_data.plot.scatter(x='Median household income', y='Covid cases')\n",
        "lga_data.plot.scatter(x='Median house price', y='Median household income')\n"
      ],
      "execution_count": null,
      "outputs": []
    }
  ]
}